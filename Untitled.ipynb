{
 "cells": [
  {
   "cell_type": "code",
   "execution_count": 14,
   "metadata": {},
   "outputs": [],
   "source": [
    "import json\n",
    "from pprint import pprint"
   ]
  },
  {
   "cell_type": "code",
   "execution_count": 17,
   "metadata": {},
   "outputs": [],
   "source": [
    "with open(\"noanymn.json\", \"r\") as infile:\n",
    "    dp = json.load(infile)"
   ]
  },
  {
   "cell_type": "code",
   "execution_count": 16,
   "metadata": {},
   "outputs": [
    {
     "name": "stdout",
     "output_type": "stream",
     "text": [
      "KEQ0508579:0 {'DEFAULT': False, 'FLAGS': 9, 'ID': 'LOWBAT', 'MAX': True, 'MIN': False, 'OPERATIONS': 5, 'TAB_ORDER': 3, 'TYPE': 'BOOL', 'UNIT': ''}\n",
      "LEQ0805396:0 {'DEFAULT': False, 'FLAGS': 9, 'ID': 'LOWBAT', 'MAX': True, 'MIN': False, 'OPERATIONS': 5, 'TAB_ORDER': 3, 'TYPE': 'BOOL', 'UNIT': ''}\n",
      "LEQ1094504:0 {'DEFAULT': False, 'FLAGS': 9, 'ID': 'LOWBAT', 'MAX': True, 'MIN': False, 'OPERATIONS': 5, 'TAB_ORDER': 3, 'TYPE': 'BOOL', 'UNIT': ''}\n",
      "LEQ1432182:0 {'DEFAULT': False, 'FLAGS': 9, 'ID': 'LOWBAT', 'MAX': True, 'MIN': False, 'OPERATIONS': 5, 'TAB_ORDER': 3, 'TYPE': 'BOOL', 'UNIT': ''}\n",
      "MEQ0223325:0 {'DEFAULT': False, 'FLAGS': 9, 'ID': 'LOWBAT', 'MAX': True, 'MIN': False, 'OPERATIONS': 5, 'TAB_ORDER': 3, 'TYPE': 'BOOL', 'UNIT': ''}\n",
      "MEQ0223325:1 {'CONTROL': 'NONE', 'DEFAULT': False, 'FLAGS': 1, 'ID': 'LOWBAT', 'MAX': True, 'MIN': False, 'OPERATIONS': 5, 'TAB_ORDER': 2, 'TYPE': 'BOOL', 'UNIT': ''}\n",
      "MEQ0230660:0 {'DEFAULT': False, 'FLAGS': 9, 'ID': 'LOWBAT', 'MAX': True, 'MIN': False, 'OPERATIONS': 5, 'TAB_ORDER': 3, 'TYPE': 'BOOL', 'UNIT': ''}\n",
      "MEQ0255882:0 {'DEFAULT': False, 'FLAGS': 9, 'ID': 'LOWBAT', 'MAX': True, 'MIN': False, 'OPERATIONS': 5, 'TAB_ORDER': 3, 'TYPE': 'BOOL', 'UNIT': ''}\n",
      "MEQ0256897:0 {'DEFAULT': False, 'FLAGS': 9, 'ID': 'LOWBAT', 'MAX': True, 'MIN': False, 'OPERATIONS': 5, 'TAB_ORDER': 3, 'TYPE': 'BOOL', 'UNIT': ''}\n",
      "MEQ0257269:0 {'DEFAULT': False, 'FLAGS': 9, 'ID': 'LOWBAT', 'MAX': True, 'MIN': False, 'OPERATIONS': 5, 'TAB_ORDER': 3, 'TYPE': 'BOOL', 'UNIT': ''}\n",
      "MEQ0257570:0 {'DEFAULT': False, 'FLAGS': 9, 'ID': 'LOWBAT', 'MAX': True, 'MIN': False, 'OPERATIONS': 5, 'TAB_ORDER': 3, 'TYPE': 'BOOL', 'UNIT': ''}\n",
      "MEQ0257597:0 {'DEFAULT': False, 'FLAGS': 9, 'ID': 'LOWBAT', 'MAX': True, 'MIN': False, 'OPERATIONS': 5, 'TAB_ORDER': 3, 'TYPE': 'BOOL', 'UNIT': ''}\n",
      "MEQ0257674:0 {'DEFAULT': False, 'FLAGS': 9, 'ID': 'LOWBAT', 'MAX': True, 'MIN': False, 'OPERATIONS': 5, 'TAB_ORDER': 3, 'TYPE': 'BOOL', 'UNIT': ''}\n",
      "MEQ0257675:0 {'DEFAULT': False, 'FLAGS': 9, 'ID': 'LOWBAT', 'MAX': True, 'MIN': False, 'OPERATIONS': 5, 'TAB_ORDER': 3, 'TYPE': 'BOOL', 'UNIT': ''}\n",
      "MEQ0258056:0 {'DEFAULT': False, 'FLAGS': 9, 'ID': 'LOWBAT', 'MAX': True, 'MIN': False, 'OPERATIONS': 5, 'TAB_ORDER': 3, 'TYPE': 'BOOL', 'UNIT': ''}\n",
      "MEQ0258067:0 {'DEFAULT': False, 'FLAGS': 9, 'ID': 'LOWBAT', 'MAX': True, 'MIN': False, 'OPERATIONS': 5, 'TAB_ORDER': 3, 'TYPE': 'BOOL', 'UNIT': ''}\n",
      "MEQ0605364:0 {'DEFAULT': False, 'FLAGS': 9, 'ID': 'LOWBAT', 'MAX': True, 'MIN': False, 'OPERATIONS': 5, 'TAB_ORDER': 3, 'TYPE': 'BOOL', 'UNIT': ''}\n",
      "MEQ0798434:0 {'DEFAULT': False, 'FLAGS': 9, 'ID': 'LOWBAT', 'MAX': True, 'MIN': False, 'OPERATIONS': 5, 'TAB_ORDER': 3, 'TYPE': 'BOOL', 'UNIT': ''}\n",
      "MEQ0806568:0 {'DEFAULT': False, 'FLAGS': 9, 'ID': 'LOWBAT', 'MAX': True, 'MIN': False, 'OPERATIONS': 5, 'TAB_ORDER': 3, 'TYPE': 'BOOL', 'UNIT': ''}\n",
      "MEQ0813667:0 {'DEFAULT': False, 'FLAGS': 9, 'ID': 'LOWBAT', 'MAX': True, 'MIN': False, 'OPERATIONS': 5, 'TAB_ORDER': 3, 'TYPE': 'BOOL', 'UNIT': ''}\n",
      "MEQ0813667:1 {'CONTROL': 'NONE', 'DEFAULT': False, 'FLAGS': 1, 'ID': 'LOWBAT', 'MAX': True, 'MIN': False, 'OPERATIONS': 5, 'TAB_ORDER': 2, 'TYPE': 'BOOL', 'UNIT': ''}\n",
      "MEQ1407433:0 {'DEFAULT': False, 'FLAGS': 9, 'ID': 'LOWBAT', 'MAX': True, 'MIN': False, 'OPERATIONS': 5, 'TAB_ORDER': 3, 'TYPE': 'BOOL', 'UNIT': ''}\n",
      "MEQ1407433:1 {'CONTROL': 'NONE', 'DEFAULT': False, 'FLAGS': 1, 'ID': 'LOWBAT', 'MAX': True, 'MIN': False, 'OPERATIONS': 5, 'TAB_ORDER': 2, 'TYPE': 'BOOL', 'UNIT': ''}\n",
      "MEQ1407633:0 {'DEFAULT': False, 'FLAGS': 9, 'ID': 'LOWBAT', 'MAX': True, 'MIN': False, 'OPERATIONS': 5, 'TAB_ORDER': 3, 'TYPE': 'BOOL', 'UNIT': ''}\n",
      "MEQ1407633:1 {'CONTROL': 'NONE', 'DEFAULT': False, 'FLAGS': 1, 'ID': 'LOWBAT', 'MAX': True, 'MIN': False, 'OPERATIONS': 5, 'TAB_ORDER': 2, 'TYPE': 'BOOL', 'UNIT': ''}\n",
      "MEQ1407650:0 {'DEFAULT': False, 'FLAGS': 9, 'ID': 'LOWBAT', 'MAX': True, 'MIN': False, 'OPERATIONS': 5, 'TAB_ORDER': 3, 'TYPE': 'BOOL', 'UNIT': ''}\n",
      "MEQ1407650:1 {'CONTROL': 'NONE', 'DEFAULT': False, 'FLAGS': 1, 'ID': 'LOWBAT', 'MAX': True, 'MIN': False, 'OPERATIONS': 5, 'TAB_ORDER': 2, 'TYPE': 'BOOL', 'UNIT': ''}\n",
      "MEQ1407670:0 {'DEFAULT': False, 'FLAGS': 9, 'ID': 'LOWBAT', 'MAX': True, 'MIN': False, 'OPERATIONS': 5, 'TAB_ORDER': 3, 'TYPE': 'BOOL', 'UNIT': ''}\n",
      "MEQ1407670:1 {'CONTROL': 'NONE', 'DEFAULT': False, 'FLAGS': 1, 'ID': 'LOWBAT', 'MAX': True, 'MIN': False, 'OPERATIONS': 5, 'TAB_ORDER': 2, 'TYPE': 'BOOL', 'UNIT': ''}\n",
      "MEQ1408325:0 {'DEFAULT': False, 'FLAGS': 9, 'ID': 'LOWBAT', 'MAX': True, 'MIN': False, 'OPERATIONS': 5, 'TAB_ORDER': 3, 'TYPE': 'BOOL', 'UNIT': ''}\n",
      "MEQ1408325:1 {'CONTROL': 'NONE', 'DEFAULT': False, 'FLAGS': 1, 'ID': 'LOWBAT', 'MAX': True, 'MIN': False, 'OPERATIONS': 5, 'TAB_ORDER': 2, 'TYPE': 'BOOL', 'UNIT': ''}\n",
      "MEQ1408347:0 {'DEFAULT': False, 'FLAGS': 9, 'ID': 'LOWBAT', 'MAX': True, 'MIN': False, 'OPERATIONS': 5, 'TAB_ORDER': 3, 'TYPE': 'BOOL', 'UNIT': ''}\n",
      "MEQ1408347:1 {'CONTROL': 'NONE', 'DEFAULT': False, 'FLAGS': 1, 'ID': 'LOWBAT', 'MAX': True, 'MIN': False, 'OPERATIONS': 5, 'TAB_ORDER': 2, 'TYPE': 'BOOL', 'UNIT': ''}\n",
      "MEQ1552673:0 {'DEFAULT': False, 'FLAGS': 9, 'ID': 'LOWBAT', 'MAX': True, 'MIN': False, 'OPERATIONS': 5, 'TAB_ORDER': 3, 'TYPE': 'BOOL', 'UNIT': ''}\n",
      "NEQ0343795:0 {'DEFAULT': False, 'FLAGS': 9, 'ID': 'LOWBAT', 'MAX': True, 'MIN': False, 'OPERATIONS': 5, 'TAB_ORDER': 3, 'TYPE': 'BOOL', 'UNIT': ''}\n",
      "NEQ0431867:0 {'DEFAULT': False, 'FLAGS': 9, 'ID': 'LOWBAT', 'MAX': True, 'MIN': False, 'OPERATIONS': 5, 'TAB_ORDER': 3, 'TYPE': 'BOOL', 'UNIT': ''}\n",
      "NEQ1676206:0 {'DEFAULT': False, 'FLAGS': 9, 'ID': 'LOWBAT', 'MAX': True, 'MIN': False, 'OPERATIONS': 5, 'TAB_ORDER': 3, 'TYPE': 'BOOL', 'UNIT': ''}\n",
      "OEQ0044847:0 {'DEFAULT': False, 'FLAGS': 9, 'ID': 'LOWBAT', 'MAX': True, 'MIN': False, 'OPERATIONS': 5, 'TAB_ORDER': 3, 'TYPE': 'BOOL', 'UNIT': ''}\n",
      "OEQ0965633:0 {'DEFAULT': False, 'FLAGS': 9, 'ID': 'LOWBAT', 'MAX': True, 'MIN': False, 'OPERATIONS': 5, 'TAB_ORDER': 3, 'TYPE': 'BOOL', 'UNIT': ''}\n",
      "OEQ0965633:1 {'CONTROL': 'NONE', 'DEFAULT': False, 'FLAGS': 1, 'ID': 'LOWBAT', 'MAX': True, 'MIN': False, 'OPERATIONS': 5, 'TAB_ORDER': 2, 'TYPE': 'BOOL', 'UNIT': ''}\n",
      "PEQ0469095:0 {'DEFAULT': False, 'FLAGS': 9, 'ID': 'LOWBAT', 'MAX': True, 'MIN': False, 'OPERATIONS': 5, 'TAB_ORDER': 3, 'TYPE': 'BOOL', 'UNIT': ''}\n",
      "PEQ0574078:0 {'DEFAULT': False, 'FLAGS': 9, 'ID': 'LOWBAT', 'MAX': True, 'MIN': False, 'OPERATIONS': 5, 'TAB_ORDER': 3, 'TYPE': 'BOOL', 'UNIT': ''}\n",
      "PEQ0574078:1 {'CONTROL': 'NONE', 'DEFAULT': False, 'FLAGS': 1, 'ID': 'LOWBAT', 'MAX': True, 'MIN': False, 'OPERATIONS': 5, 'TAB_ORDER': 2, 'TYPE': 'BOOL', 'UNIT': ''}\n",
      "PEQ0574102:0 {'DEFAULT': False, 'FLAGS': 9, 'ID': 'LOWBAT', 'MAX': True, 'MIN': False, 'OPERATIONS': 5, 'TAB_ORDER': 3, 'TYPE': 'BOOL', 'UNIT': ''}\n",
      "PEQ0574102:1 {'CONTROL': 'NONE', 'DEFAULT': False, 'FLAGS': 1, 'ID': 'LOWBAT', 'MAX': True, 'MIN': False, 'OPERATIONS': 5, 'TAB_ORDER': 2, 'TYPE': 'BOOL', 'UNIT': ''}\n",
      "PEQ0574115:0 {'DEFAULT': False, 'FLAGS': 9, 'ID': 'LOWBAT', 'MAX': True, 'MIN': False, 'OPERATIONS': 5, 'TAB_ORDER': 3, 'TYPE': 'BOOL', 'UNIT': ''}\n",
      "PEQ0574115:1 {'CONTROL': 'NONE', 'DEFAULT': False, 'FLAGS': 1, 'ID': 'LOWBAT', 'MAX': True, 'MIN': False, 'OPERATIONS': 5, 'TAB_ORDER': 2, 'TYPE': 'BOOL', 'UNIT': ''}\n",
      "PEQ1313971:0 {'DEFAULT': False, 'FLAGS': 9, 'ID': 'LOWBAT', 'MAX': True, 'MIN': False, 'OPERATIONS': 5, 'TAB_ORDER': 3, 'TYPE': 'BOOL', 'UNIT': ''}\n",
      "PEQ1937479:0 {'DEFAULT': False, 'FLAGS': 9, 'ID': 'LOWBAT', 'MAX': True, 'MIN': False, 'OPERATIONS': 5, 'TAB_ORDER': 3, 'TYPE': 'BOOL', 'UNIT': ''}\n",
      "PEQ1937512:0 {'DEFAULT': False, 'FLAGS': 9, 'ID': 'LOWBAT', 'MAX': True, 'MIN': False, 'OPERATIONS': 5, 'TAB_ORDER': 3, 'TYPE': 'BOOL', 'UNIT': ''}\n"
     ]
    }
   ],
   "source": [
    "for element in dp:\n",
    "    try:\n",
    "        print(element['ADDRESS'] ,element['PARAMSETS']['VALUES']['LOWBAT'])\n",
    "    except KeyError:\n",
    "        pass"
   ]
  },
  {
   "cell_type": "code",
   "execution_count": null,
   "metadata": {},
   "outputs": [],
   "source": []
  }
 ],
 "metadata": {
  "kernelspec": {
   "display_name": "Python 3",
   "language": "python",
   "name": "python3"
  },
  "language_info": {
   "codemirror_mode": {
    "name": "ipython",
    "version": 3
   },
   "file_extension": ".py",
   "mimetype": "text/x-python",
   "name": "python",
   "nbconvert_exporter": "python",
   "pygments_lexer": "ipython3",
   "version": "3.8.0"
  }
 },
 "nbformat": 4,
 "nbformat_minor": 2
}
